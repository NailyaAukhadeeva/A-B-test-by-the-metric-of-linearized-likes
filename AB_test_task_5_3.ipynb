{
 "cells": [
  {
   "cell_type": "markdown",
   "id": "0afe978f-0946-49fd-9c62-5b9ec7fb7d67",
   "metadata": {},
   "source": [
    "# Задание № 5.3\n",
    "# А/В-тесты изменения метрики линеаризованных лайков"
   ]
  },
  {
   "cell_type": "code",
   "execution_count": 97,
   "id": "d3741240-f4ad-403d-94b8-1327fc167bbe",
   "metadata": {},
   "outputs": [
    {
     "name": "stderr",
     "output_type": "stream",
     "text": [
      "/nfs/env/lib/python3.8/site-packages/outdated/utils.py:14: OutdatedPackageWarning: The package outdated is out of date. Your version is 0.2.1, the latest is 0.2.2.\n",
      "Set the environment variable OUTDATED_IGNORE=1 to disable these warnings.\n",
      "  return warn(\n",
      "/nfs/env/lib/python3.8/site-packages/outdated/utils.py:14: OutdatedPackageWarning: The package pingouin is out of date. Your version is 0.4.0, the latest is 0.5.3.\n",
      "Set the environment variable OUTDATED_IGNORE=1 to disable these warnings.\n",
      "  return warn(\n"
     ]
    }
   ],
   "source": [
    "# импортируем библиотеки\n",
    "import pandahouse\n",
    "from scipy import stats # Статистика\n",
    "import seaborn as sns\n",
    "import pingouin as pg"
   ]
  },
  {
   "cell_type": "markdown",
   "id": "6cb5afcc-a673-4906-9df0-6f344e38c95e",
   "metadata": {},
   "source": [
    "# Тест между 0 и 3 группами"
   ]
  },
  {
   "cell_type": "code",
   "execution_count": 10,
   "id": "099ac6e4-9b50-4ce1-afc0-04429b414b91",
   "metadata": {},
   "outputs": [],
   "source": [
    "# указываем параметры подключения к БД\n",
    "connection = {\n",
    "    'host': '',\n",
    "    'password': '',\n",
    "    'user': '',\n",
    "    'database': ''\n",
    "}"
   ]
  },
  {
   "cell_type": "code",
   "execution_count": 105,
   "id": "7f9d0089-b874-4c74-a07d-ea4a035eeabb",
   "metadata": {},
   "outputs": [],
   "source": [
    "q_0_3 = \"\"\"\n",
    "SELECT \n",
    "    --посчитали метрику линеаризованных лайков\n",
    "    exp_group,\n",
    "    user_id,\n",
    "    likes - ctr_control* views as linearized_likes\n",
    "FROM \n",
    "(\n",
    "SELECT DISTINCT exp_group,\n",
    "    -- выбрали данные по 0 и 3 группам\n",
    "    user_id,\n",
    "    sum(action = 'like') as likes,\n",
    "    sum(action = 'view') as views\n",
    "FROM {db}.feed_actions \n",
    "WHERE toDate(time) between '2023-05-01' and '2023-05-07'\n",
    "        and exp_group in (0,3)\n",
    "GROUP BY exp_group, user_id\n",
    ") t1\n",
    "CROSS JOIN\n",
    "(SELECT DISTINCT \n",
    "    -- посчитали CTR в контрольной группе\n",
    "    sum(action = 'like' and exp_group = 0)/sum(action = 'view' and exp_group = 0) as ctr_control\n",
    "FROM {db}.feed_actions \n",
    "WHERE toDate(time) between '2023-05-01' and '2023-05-07') t2\n",
    "\n",
    "\"\"\""
   ]
  },
  {
   "cell_type": "code",
   "execution_count": 128,
   "id": "18cdadb6-92bb-4749-84b2-73c5ffc47df9",
   "metadata": {},
   "outputs": [],
   "source": [
    "# выборка 0 и 3 группы, но в период проведения АА тестов.\n",
    "q_0_3_2404_3004 = \"\"\"\n",
    "SELECT \n",
    "    --посчитали метрику линеаризованных лайков\n",
    "    exp_group,\n",
    "    user_id,\n",
    "    likes - ctr_control* views as linearized_likes\n",
    "FROM \n",
    "(\n",
    "SELECT DISTINCT exp_group,\n",
    "    -- выбрали данные по 0 и 3 группам\n",
    "    user_id,\n",
    "    sum(action = 'like') as likes,\n",
    "    sum(action = 'view') as views\n",
    "FROM {db}.feed_actions \n",
    "WHERE toDate(time) between '2023-04-24' and '2023-04-30'\n",
    "        and exp_group in (0,3)\n",
    "GROUP BY exp_group, user_id\n",
    ") t1\n",
    "CROSS JOIN\n",
    "(SELECT DISTINCT \n",
    "    -- посчитали CTR в контрольной группе\n",
    "    sum(action = 'like' and exp_group = 0)/sum(action = 'view' and exp_group = 0) as ctr_control\n",
    "FROM {db}.feed_actions \n",
    "WHERE toDate(time) between '2023-04-24' and '2023-04-30') t2\n",
    "\n",
    "\"\"\""
   ]
  },
  {
   "cell_type": "code",
   "execution_count": 111,
   "id": "07f08247-bb24-4e80-a812-5f4b06858768",
   "metadata": {},
   "outputs": [],
   "source": [
    "q_1_2 = \"\"\"\n",
    "SELECT \n",
    "    --посчитали метрику линеаризованных лайков\n",
    "    exp_group,\n",
    "    user_id,\n",
    "    likes - ctr_control* views as linearized_likes\n",
    "FROM \n",
    "(\n",
    "SELECT DISTINCT exp_group,\n",
    "    -- выбрали данные по 1 и 2 группам\n",
    "    user_id,\n",
    "    sum(action = 'like') as likes,\n",
    "    sum(action = 'view') as views\n",
    "FROM {db}.feed_actions \n",
    "WHERE toDate(time) between '2023-05-01' and '2023-05-07'\n",
    "        and exp_group in (1,2)\n",
    "GROUP BY exp_group, user_id\n",
    ") t1\n",
    "CROSS JOIN\n",
    "(SELECT DISTINCT \n",
    "    -- посчитали CTR в контрольной группе\n",
    "    sum(action = 'like' and exp_group = 1)/sum(action = 'view' and exp_group = 1) as ctr_control\n",
    "FROM {db}.feed_actions \n",
    "WHERE toDate(time) between '2023-05-01' and '2023-05-07') t2\n",
    "\n",
    "\"\"\""
   ]
  },
  {
   "cell_type": "code",
   "execution_count": 106,
   "id": "849ca048-895f-46b4-80de-39d6370119cf",
   "metadata": {},
   "outputs": [],
   "source": [
    "# вызываем запрос и сохраняем в df полученные данные 0 и 3 групп\n",
    "df = pandahouse.read_clickhouse(q_0_3, connection=connection)"
   ]
  },
  {
   "cell_type": "code",
   "execution_count": 129,
   "id": "c3cd7787-9f91-44dd-a26f-2ab01e8409c8",
   "metadata": {},
   "outputs": [],
   "source": [
    "# вызываем запрос и сохраняем в df полученные данные 0 и 3 групп в период 24.04-30.04.23\n",
    "df_0_3_2404_3004 = pandahouse.read_clickhouse(q_0_3_2404_3004, connection=connection)"
   ]
  },
  {
   "cell_type": "code",
   "execution_count": 112,
   "id": "fede83ce-2d15-42d6-8244-4bbc871eaab7",
   "metadata": {},
   "outputs": [],
   "source": [
    "# вызываем запрос и сохраняем в df полученные данные 1 и 2 групп\n",
    "df_1_2 = pandahouse.read_clickhouse(q_1_2, connection=connection)"
   ]
  },
  {
   "cell_type": "markdown",
   "id": "376710d3-1630-41f0-a4de-8b815b1439db",
   "metadata": {},
   "source": [
    "# Первичная оценка данных (0, 3 группы)"
   ]
  },
  {
   "cell_type": "code",
   "execution_count": null,
   "id": "632b12de-88a3-46ee-9503-cca1427d94ce",
   "metadata": {},
   "outputs": [],
   "source": [
    "Для начала оценим на распределения метрики в группах визуально"
   ]
  },
  {
   "cell_type": "code",
   "execution_count": 94,
   "id": "83c6ea36-3b5f-4e73-9bfc-0a8598faed81",
   "metadata": {},
   "outputs": [
    {
     "data": {
      "image/png": "[encoded data removed]",
      "text/plain": [
       "<Figure size 842.4x595.44 with 1 Axes>"
      ]
     },
     "metadata": {},
     "output_type": "display_data"
    }
   ],
   "source": [
    "# увеличили размер графика\n",
    "sns.set(rc={'figure.figsize':(11.7,8.27)})\n",
    "\n",
    "groups = sns.histplot(data = df, \n",
    "              x='linearized_likes', \n",
    "              hue='exp_group', \n",
    "              palette = ['r', 'b'],\n",
    "              alpha=0.5,\n",
    "              kde=False)"
   ]
  },
  {
   "cell_type": "markdown",
   "id": "d48f1397-d21d-42eb-bfc4-4c7e89361211",
   "metadata": {},
   "source": [
    "В целом распределение очень похоже на нормальное. Распределение метрики визуально разница незначительно."
   ]
  },
  {
   "cell_type": "code",
   "execution_count": 95,
   "id": "53855aab-5a62-4fd4-99e9-9693fb791b3f",
   "metadata": {},
   "outputs": [
    {
     "data": {
      "text/plain": [
       "<AxesSubplot:xlabel='exp_group', ylabel='linearized_likes'>"
      ]
     },
     "execution_count": 95,
     "metadata": {},
     "output_type": "execute_result"
    },
    {
     "data": {
      "image/png": "[encoded data removed]",
      "text/plain": [
       "<Figure size 842.4x595.44 with 1 Axes>"
      ]
     },
     "metadata": {},
     "output_type": "display_data"
    }
   ],
   "source": [
    "sns.boxplot(data=df, x=\"exp_group\", y=\"linearized_likes\")"
   ]
  },
  {
   "cell_type": "markdown",
   "id": "902859b6-41bd-482f-bdb1-5a4ea43a4c3d",
   "metadata": {},
   "source": [
    "Боксплот показывает, что медианное значение, 25-й и 75-й процентиль чуть выше в экспериментальной группе, а также в ней больше выбросов."
   ]
  },
  {
   "cell_type": "markdown",
   "id": "1533bcf4-32a8-41f4-b37e-7480a7bdb3e9",
   "metadata": {},
   "source": [
    "Ниже визуализация данных по 0 и 3 группам, но в период проведения АА тестов (24.04.23 - 30.04.23)."
   ]
  },
  {
   "cell_type": "code",
   "execution_count": 130,
   "id": "56e20462-918f-4063-b776-4529c51e8610",
   "metadata": {},
   "outputs": [
    {
     "data": {
      "image/png": "[encoded data removed]",
      "text/plain": [
       "<Figure size 842.4x595.44 with 1 Axes>"
      ]
     },
     "metadata": {},
     "output_type": "display_data"
    }
   ],
   "source": [
    "# увеличили размер графика\n",
    "sns.set(rc={'figure.figsize':(11.7,8.27)})\n",
    "\n",
    "groups = sns.histplot(data = df_0_3_2404_3004, \n",
    "              x='linearized_likes', \n",
    "              hue='exp_group', \n",
    "              palette = ['r', 'b'],\n",
    "              alpha=0.5,\n",
    "              kde=False)"
   ]
  },
  {
   "cell_type": "code",
   "execution_count": 132,
   "id": "78fa6ceb-33ee-491d-9c87-61b083423126",
   "metadata": {},
   "outputs": [
    {
     "data": {
      "text/plain": [
       "<AxesSubplot:xlabel='exp_group', ylabel='linearized_likes'>"
      ]
     },
     "execution_count": 132,
     "metadata": {},
     "output_type": "execute_result"
    },
    {
     "data": {
      "image/png": "[encoded data removed]",
      "text/plain": [
       "<Figure size 842.4x595.44 with 1 Axes>"
      ]
     },
     "metadata": {},
     "output_type": "display_data"
    }
   ],
   "source": [
    "sns.boxplot(data=df_0_3_2404_3004, x=\"exp_group\", y=\"linearized_likes\")"
   ]
  },
  {
   "cell_type": "markdown",
   "id": "0781d618-b3c1-45da-966e-ed99c95514f1",
   "metadata": {},
   "source": [
    "Оба графика показали распределение метрик еще более схожее (визуально), чем за период проведения с 01.05 по 07.05."
   ]
  },
  {
   "cell_type": "markdown",
   "id": "ae15b7ac-0999-471b-8365-5ea2428c716c",
   "metadata": {},
   "source": [
    "# Метод Левена (0 и 3 группы)"
   ]
  },
  {
   "cell_type": "markdown",
   "id": "af5b776a-11ff-4e91-8b2b-312f94685eb4",
   "metadata": {},
   "source": [
    "Проверим являются ли дисперсии в генеральных совокупностях гомогенны. Для это используем метод Левена.\n",
    "H0: дисперсии гомогенны\n",
    "H1: дисперсии не являются гомогенными"
   ]
  },
  {
   "cell_type": "code",
   "execution_count": 99,
   "id": "bbfc8fd0-613f-4a1f-8a50-78d6a58f9662",
   "metadata": {},
   "outputs": [
    {
     "data": {
      "text/html": [
       "<div>\n",
       "<style scoped>\n",
       "    .dataframe tbody tr th:only-of-type {\n",
       "        vertical-align: middle;\n",
       "    }\n",
       "\n",
       "    .dataframe tbody tr th {\n",
       "        vertical-align: top;\n",
       "    }\n",
       "\n",
       "    .dataframe thead th {\n",
       "        text-align: right;\n",
       "    }\n",
       "</style>\n",
       "<table border=\"1\" class=\"dataframe\">\n",
       "  <thead>\n",
       "    <tr style=\"text-align: right;\">\n",
       "      <th></th>\n",
       "      <th>W</th>\n",
       "      <th>pval</th>\n",
       "      <th>equal_var</th>\n",
       "    </tr>\n",
       "  </thead>\n",
       "  <tbody>\n",
       "    <tr>\n",
       "      <th>levene</th>\n",
       "      <td>0.000025</td>\n",
       "      <td>0.996046</td>\n",
       "      <td>True</td>\n",
       "    </tr>\n",
       "  </tbody>\n",
       "</table>\n",
       "</div>"
      ],
      "text/plain": [
       "               W      pval  equal_var\n",
       "levene  0.000025  0.996046       True"
      ]
     },
     "execution_count": 99,
     "metadata": {},
     "output_type": "execute_result"
    }
   ],
   "source": [
    "pg.homoscedasticity(data=df, dv=\"linearized_likes\", group=\"exp_group\")"
   ]
  },
  {
   "cell_type": "markdown",
   "id": "8230a6d9-093c-48e8-a978-6b7058a6de2e",
   "metadata": {},
   "source": [
    "pvalue высокий, что подтверждает H0."
   ]
  },
  {
   "cell_type": "markdown",
   "id": "d88cdb0a-4f35-4435-82ad-11562abcbe36",
   "metadata": {},
   "source": [
    "# Т-тест Стьюдента показателей линеаризованных лайков в группах (0, 3)"
   ]
  },
  {
   "cell_type": "markdown",
   "id": "9af3001e-63b0-4fdc-902d-b345a46bd13a",
   "metadata": {},
   "source": [
    "H0: показатели метрики стат.значимо не отличаются;\n",
    "H1: показатели метрики стат.значимо отличаются."
   ]
  },
  {
   "cell_type": "code",
   "execution_count": 104,
   "id": "eda07a2f-9ac7-42b3-9702-eb8e000d60eb",
   "metadata": {},
   "outputs": [
    {
     "name": "stdout",
     "output_type": "stream",
     "text": [
      "Значение статистики равно -15.214995460903827, показатель pvalue составляет 5.4914249479690016e-52\n"
     ]
    }
   ],
   "source": [
    "# Запускаем ttest показателей линеаризованных лайков 0 и 3 групп\n",
    "ttest = stats.ttest_ind(df[df.exp_group == 0].linearized_likes,\n",
    "                df[df.exp_group == 3].linearized_likes,\n",
    "                equal_var=False)\n",
    "print(f'Значение статистики равно {ttest[0]}, показатель pvalue составляет {ttest[1]}')"
   ]
  },
  {
   "cell_type": "markdown",
   "id": "6911de78-f4d0-4675-bd95-7d5164d117c2",
   "metadata": {},
   "source": [
    "Несмотря на в принципе очень похожие графики, ttest позволяет нам отвергнуть H0 и предположить, что значение целевой метрики в контрольной иэкспериментальной группах отличаются."
   ]
  },
  {
   "cell_type": "markdown",
   "id": "c558f689-49ce-4b5b-b531-77120a8751e0",
   "metadata": {},
   "source": [
    "Для себя было решено проверить H0 и H1 гипотезы по 0 и 3 группам в период проведения АА теста (24.04.23 - 30.04.23)"
   ]
  },
  {
   "cell_type": "code",
   "execution_count": 133,
   "id": "dc080973-0ef2-4c26-aa0c-1269a866ff4a",
   "metadata": {},
   "outputs": [
    {
     "name": "stdout",
     "output_type": "stream",
     "text": [
      "Значение статистики равно -0.11789763322935291, показатель pvalue составляет 0.9061501573697005\n"
     ]
    }
   ],
   "source": [
    "# Запускаем ttest показателей линеаризованных лайков 0 и 3 групп\n",
    "ttest = stats.ttest_ind(df_0_3_2404_3004[df_0_3_2404_3004.exp_group == 0].linearized_likes,\n",
    "                df_0_3_2404_3004[df_0_3_2404_3004.exp_group == 3].linearized_likes,\n",
    "                equal_var=False)\n",
    "print(f'Значение статистики равно {ttest[0]}, показатель pvalue составляет {ttest[1]}')"
   ]
  },
  {
   "cell_type": "markdown",
   "id": "00cba86e-26c7-455a-9320-ec0cea3088eb",
   "metadata": {},
   "source": [
    "Высокое значение pvalue не позволяет нам отклонить H0 гипотезу, что и хотелось подтвердить. Т.е. распределение метрик в контрольной и экспериментальной группах на момент проведения АА тестов стат.значимо не различаются."
   ]
  },
  {
   "cell_type": "markdown",
   "id": "3c714ca6-4e3a-420a-8ac9-4b8ebb1b5add",
   "metadata": {},
   "source": [
    "# Первичная оценка данных (1, 2 группы)"
   ]
  },
  {
   "cell_type": "markdown",
   "id": "ca950508-ea33-4f16-8280-2d6930800e6e",
   "metadata": {},
   "source": [
    "Для начала оценим на распределения метрики в группах визуально"
   ]
  },
  {
   "cell_type": "code",
   "execution_count": 113,
   "id": "d62beeca-9600-4945-b40f-5f09722fec93",
   "metadata": {},
   "outputs": [
    {
     "data": {
      "image/png": "[encoded data removed]",
      "text/plain": [
       "<Figure size 842.4x595.44 with 1 Axes>"
      ]
     },
     "metadata": {},
     "output_type": "display_data"
    }
   ],
   "source": [
    "# увеличили размер графика\n",
    "sns.set(rc={'figure.figsize':(11.7,8.27)})\n",
    "\n",
    "groups = sns.histplot(data = df_1_2, \n",
    "              x='linearized_likes', \n",
    "              hue='exp_group', \n",
    "              palette = ['r', 'b'],\n",
    "              alpha=0.5,\n",
    "              kde=False)"
   ]
  },
  {
   "cell_type": "markdown",
   "id": "2342f3e3-b82e-4ff0-b286-4242010d46c3",
   "metadata": {},
   "source": [
    "Разница в графиках распределения целевой метрики визуально прослеживается. Распределение экспериментальной группы явно не похоже на нормальное."
   ]
  },
  {
   "cell_type": "code",
   "execution_count": 115,
   "id": "fb5383ba-b773-46f3-938f-4a401588c186",
   "metadata": {},
   "outputs": [
    {
     "data": {
      "text/plain": [
       "<AxesSubplot:xlabel='exp_group', ylabel='linearized_likes'>"
      ]
     },
     "execution_count": 115,
     "metadata": {},
     "output_type": "execute_result"
    },
    {
     "data": {
      "image/png": "[encoded data removed]",
      "text/plain": [
       "<Figure size 842.4x595.44 with 1 Axes>"
      ]
     },
     "metadata": {},
     "output_type": "display_data"
    }
   ],
   "source": [
    "sns.boxplot(data=df_1_2, x=\"exp_group\", y=\"linearized_likes\")"
   ]
  },
  {
   "cell_type": "markdown",
   "id": "0cfaff7a-1587-4554-94ec-c4b5204360d8",
   "metadata": {},
   "source": [
    "Медианное значение распределения ctr и 25-й процентиль в контрольной группе выше, зато в эксперементальной группе выше 75-й процентиль. В целом видно, что разброс значений ctr в эксперементальной группе значительно выше. Но на основании полученных боксплотов затруднительно сделать какие-либо выводы."
   ]
  },
  {
   "cell_type": "markdown",
   "id": "9d08a716-4e04-4a22-bd6d-d7b01e294bd4",
   "metadata": {},
   "source": [
    "# Метод Левена (проверка равенства дисперсий)"
   ]
  },
  {
   "cell_type": "markdown",
   "id": "c56a629e-de20-4ac9-a375-fb548118c793",
   "metadata": {},
   "source": [
    "Проверим являются ли дисперсии в генеральных совокупностях гомогенны. Для это используем метод Левена.\n",
    "H0: дисперсии гомогенны\n",
    "H1: дисперсии не являются гомогенными"
   ]
  },
  {
   "cell_type": "code",
   "execution_count": 118,
   "id": "17625b4f-5e76-41d9-b2d0-4f63dc260971",
   "metadata": {},
   "outputs": [
    {
     "data": {
      "text/html": [
       "<div>\n",
       "<style scoped>\n",
       "    .dataframe tbody tr th:only-of-type {\n",
       "        vertical-align: middle;\n",
       "    }\n",
       "\n",
       "    .dataframe tbody tr th {\n",
       "        vertical-align: top;\n",
       "    }\n",
       "\n",
       "    .dataframe thead th {\n",
       "        text-align: right;\n",
       "    }\n",
       "</style>\n",
       "<table border=\"1\" class=\"dataframe\">\n",
       "  <thead>\n",
       "    <tr style=\"text-align: right;\">\n",
       "      <th></th>\n",
       "      <th>W</th>\n",
       "      <th>pval</th>\n",
       "      <th>equal_var</th>\n",
       "    </tr>\n",
       "  </thead>\n",
       "  <tbody>\n",
       "    <tr>\n",
       "      <th>levene</th>\n",
       "      <td>3260.168567</td>\n",
       "      <td>0.0</td>\n",
       "      <td>False</td>\n",
       "    </tr>\n",
       "  </tbody>\n",
       "</table>\n",
       "</div>"
      ],
      "text/plain": [
       "                  W  pval  equal_var\n",
       "levene  3260.168567   0.0      False"
      ]
     },
     "execution_count": 118,
     "metadata": {},
     "output_type": "execute_result"
    }
   ],
   "source": [
    "pg.homoscedasticity(data=df_1_2, dv=\"linearized_likes\", group=\"exp_group\")"
   ]
  },
  {
   "cell_type": "markdown",
   "id": "d2a65dac-3f7f-4b66-b741-a195fd4ba16c",
   "metadata": {},
   "source": [
    "H0 отвергаем, поскольку pvalue < 0.05. "
   ]
  },
  {
   "cell_type": "markdown",
   "id": "8b5cb670-207d-4f07-a40d-f772265a9f46",
   "metadata": {},
   "source": [
    "# Т-тест Стьюдента для показателей CTR в группах"
   ]
  },
  {
   "cell_type": "markdown",
   "id": "069d2bc2-b735-4548-92c6-9a35e1fe54f7",
   "metadata": {},
   "source": [
    "Одним из условий получения достоверного результата с помощью ttest Стьюдента является равенство дисперсий. На предыдущем шаге мы выявили, что дисперсии не гомогенны. Так что в принцпипе этот расчет можно было бы пропустить, но мы все же посмотрим."
   ]
  },
  {
   "cell_type": "code",
   "execution_count": 122,
   "id": "da9a73c6-f18a-4810-89d9-b40f2371ecb3",
   "metadata": {},
   "outputs": [
    {
     "name": "stdout",
     "output_type": "stream",
     "text": [
      "Значение статистики равно 6.122579994775973, показатель pvalue составляет 9.439432187037712e-10\n"
     ]
    }
   ],
   "source": [
    "# Запускаем ttest ctr 1 и 2 групп\n",
    "ttest = stats.ttest_ind(df_1_2[df_1_2.exp_group == 1].linearized_likes,\n",
    "                df_1_2[df_1_2.exp_group == 2].linearized_likes,\n",
    "                equal_var=False)\n",
    "print(f'Значение статистики равно {ttest[0]}, показатель pvalue составляет {ttest[1]}')"
   ]
  },
  {
   "cell_type": "markdown",
   "id": "e0d2ec3f-bd95-4f1e-bb23-1054033b7848",
   "metadata": {},
   "source": [
    "Несмотря на подтвержденное тестом Левена неравенство дисперсий. Показатель pvalue ниже порога 0.05, что позволяет нам отвергнуть H0. В то время как тот же тест по CTR выдавал абсолютно противоположный результат."
   ]
  },
  {
   "cell_type": "markdown",
   "id": "b3cdca07-9dc4-44ac-aeca-a964c6db355b",
   "metadata": {},
   "source": [
    "# Тест Манна-Уитни"
   ]
  },
  {
   "cell_type": "markdown",
   "id": "180b1ceb-8d44-434c-ba6a-e4d43ba0a06a",
   "metadata": {},
   "source": [
    "Ради подтверждения эксперимента проведем тест Манна-Уитни.\n",
    "H0: линеаризованные лайки в группах значимо не отличаются.\n",
    "H1: линеаризованные лайки в группах значимо отличаются"
   ]
  },
  {
   "cell_type": "code",
   "execution_count": 125,
   "id": "ffbf1740-cb88-4283-87cf-37fe94f1b9b4",
   "metadata": {},
   "outputs": [
    {
     "name": "stdout",
     "output_type": "stream",
     "text": [
      "MannwhitneyuResult(statistic=45771671.0, pvalue=9.404319579641738e-27)\n"
     ]
    }
   ],
   "source": [
    "mannwhitneyu = stats.mannwhitneyu(df_1_2[df_1_2.exp_group == 2].linearized_likes, \n",
    "                   df_1_2[df_1_2.exp_group == 1].linearized_likes, \n",
    "                   alternative = 'two-sided')\n",
    "print(mannwhitneyu)"
   ]
  },
  {
   "cell_type": "code",
   "execution_count": 126,
   "id": "a6e9674e-5767-4417-8991-f4daef0bd41c",
   "metadata": {},
   "outputs": [
    {
     "name": "stdout",
     "output_type": "stream",
     "text": [
      "-9.439432187037712e-10\n"
     ]
    }
   ],
   "source": [
    "# разница pvalue Манна-Уитни и теста Стьюдента\n",
    "print(mannwhitneyu[1] - ttest[1])"
   ]
  },
  {
   "cell_type": "markdown",
   "id": "207e1d58-470d-41e4-9d00-36fbfd2ea59f",
   "metadata": {},
   "source": [
    "pvalue, полученный тестом Манна-Уитни, очень близок к pvalue, полученным ttest. Новая метрика кажется намного чувствительнее нежели ctr. Хотя я не могу сказать, что закрыла для себя вопрос: а можно ли использовать ttest при таком результате теста Левена даже на линеаризованную метрику."
   ]
  },
  {
   "cell_type": "code",
   "execution_count": null,
   "id": "0c90eeb7-abf1-4d6e-8f5a-92483851947e",
   "metadata": {},
   "outputs": [],
   "source": []
  }
 ],
 "metadata": {
  "kernelspec": {
   "display_name": "Python 3 (ipykernel)",
   "language": "python",
   "name": "python3"
  },
  "language_info": {
   "codemirror_mode": {
    "name": "ipython",
    "version": 3
   },
   "file_extension": ".py",
   "mimetype": "text/x-python",
   "name": "python",
   "nbconvert_exporter": "python",
   "pygments_lexer": "ipython3",
   "version": "3.8.10"
  }
 },
 "nbformat": 4,
 "nbformat_minor": 5
}
